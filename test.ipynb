{
 "cells": [
  {
   "cell_type": "code",
   "execution_count": null,
   "metadata": {},
   "outputs": [],
   "source": [
    "import requests\n",
    "from pytube import YouTube\n",
    "from bs4 import BeautifulSoup\n",
    "import os\n",
    "from summa import summarizer\n",
    "\n",
    "def search_summurize(text):\n",
    "    summary = summarizer.summarize(text, ratio=0.5)\n",
    "    return summary\n",
    "\n",
    "def download_image(image_url, save_path):\n",
    "    response = requests.get(image_url)\n",
    "    if response.status_code == 200:\n",
    "        with open(save_path, 'wb') as file:\n",
    "            file.write(response.content)\n",
    "\n",
    "def find_and_download_images(query, save_dir):\n",
    "    search_url = f\"https://www.google.com/search?q={query}&tbm=isch\"\n",
    "    response = requests.get(search_url)\n",
    "    soup = BeautifulSoup(response.text, 'html.parser')\n",
    "    image_elements = soup.find_all('img')\n",
    "\n",
    "    for i, img in enumerate(image_elements[:5]):\n",
    "        img_url = img.get('src')\n",
    "        if img_url:\n",
    "            download_image(img_url, os.path.join(save_dir, f'image_{i}.jpg'))\n",
    "\n",
    "def download_youtube_video(video_url, save_path):\n",
    "    yt = YouTube(video_url)\n",
    "    stream = yt.streams.get_highest_resolution()\n",
    "    stream.download(output_path=save_path)\n",
    "\n",
    "# find_and_download_images(\"Description: path_to_your_image, Type=png, Topic = Create python scripts image input and extract the matrics represent Use\", \"imagesaved.png\")\n",
    "\n",
    "\n",
    "x = search_summurize(\"Create multiple python scripts that takes an image as input and extract the matrics represent it. Use Numpy and any other nessecary libs needed\")\n",
    "print(x)"
   ]
  },
  {
   "cell_type": "code",
   "execution_count": 12,
   "metadata": {},
   "outputs": [
    {
     "name": "stdout",
     "output_type": "stream",
     "text": [
      "Create extra multiple python scripts that takes an image as input and extract the matrics represent it.\n"
     ]
    }
   ],
   "source": [
    "from summa import summarizer\n",
    "\n",
    "def search_summurize(text):\n",
    "    summary = summarizer.summarize(text, ratio=0.5)\n",
    "    return summary\n",
    "\n",
    "x = search_summurize(\"Create multiple python scripts that takes an image as input and extract the matrics represent it. Also make the matrics 3D Numpy and any other nessecary libs needed\")\n",
    "print(x)"
   ]
  },
  {
   "cell_type": "code",
   "execution_count": 2,
   "metadata": {},
   "outputs": [
    {
     "name": "stdout",
     "output_type": "stream",
     "text": [
      "Downloaded https://encrypted-tbn0.gstatic.com/images?q=tbn:ANd9GcTwC9c9_UYMMgbLbMlQEvaRAOyvBpvvuR5U6ekiDlnE-h-sDr8rS2fIupg3oA&s to image_1.jpg\n",
      "Downloaded https://encrypted-tbn0.gstatic.com/images?q=tbn:ANd9GcQjVrZiXTjoJtHrIMPtDZkvouj88NWgUQ7aREId6jnAGRymNR-nQB4uFhZ79pE&s to image_2.jpg\n",
      "Downloaded https://encrypted-tbn0.gstatic.com/images?q=tbn:ANd9GcS9_5HYYQ929PACmyjhHJ5Flv38yXP5RpKuHNbiyJPJqcABHcelFYIqFFohkw&s to image_3.jpg\n",
      "Downloaded https://encrypted-tbn0.gstatic.com/images?q=tbn:ANd9GcSczsd-i1Y7ugAe-fI-1jtappLO1DNQqhNq-IbQZm0mQ6FM3WD8HoZdLeifTvA&s to image_4.jpg\n"
     ]
    }
   ],
   "source": [
    "import requests\n",
    "from bs4 import BeautifulSoup\n",
    "import os\n",
    "\n",
    "def download_image(image_url, save_path):\n",
    "    response = requests.get(image_url, headers={'User-Agent': 'Mozilla/5.0'})\n",
    "    if response.status_code == 200:\n",
    "        with open(save_path, 'wb') as file:\n",
    "            file.write(response.content)\n",
    "\n",
    "def find_and_download_images(query, save_dir):\n",
    "    search_url = f\"https://www.google.com/search?q={query}&tbm=isch\"\n",
    "    headers = {'User-Agent': 'Mozilla/5.0'}\n",
    "    response = requests.get(search_url, headers=headers)\n",
    "    soup = BeautifulSoup(response.text, 'html.parser')\n",
    "    image_elements = soup.find_all('img')\n",
    "\n",
    "    os.makedirs(save_dir, exist_ok=True)\n",
    "\n",
    "    for i, img in enumerate(image_elements[:5]):\n",
    "        img_url = img.get('src')\n",
    "        if img_url and img_url.startswith('http'):\n",
    "            filename = f'image_{i}.jpg'\n",
    "            download_image(img_url, os.path.join(save_dir, filename))\n",
    "            print(f\"Downloaded {img_url} to {filename}\")\n",
    "\n",
    "find_and_download_images(\"Animated Cats For Children HD, Type=png\", \"IMGS\")"
   ]
  },
  {
   "cell_type": "code",
   "execution_count": null,
   "metadata": {},
   "outputs": [],
   "source": []
  }
 ],
 "metadata": {
  "kernelspec": {
   "display_name": "Python 3",
   "language": "python",
   "name": "python3"
  },
  "language_info": {
   "codemirror_mode": {
    "name": "ipython",
    "version": 3
   },
   "file_extension": ".py",
   "mimetype": "text/x-python",
   "name": "python",
   "nbconvert_exporter": "python",
   "pygments_lexer": "ipython3",
   "version": "3.12.2"
  }
 },
 "nbformat": 4,
 "nbformat_minor": 2
}
